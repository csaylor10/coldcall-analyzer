{
 "cells": [
  {
   "cell_type": "code",
   "execution_count": 1,
   "id": "b2d6e117-945a-4a16-a79c-a30e712cd4e9",
   "metadata": {},
   "outputs": [
    {
     "name": "stdout",
     "output_type": "stream",
     "text": [
      "CUDA is available!\n",
      "GPU Name: NVIDIA RTX A5000\n"
     ]
    }
   ],
   "source": [
    "import torch\n",
    "\n",
    "if torch.cuda.is_available():\n",
    "    print(\"CUDA is available!\")\n",
    "    print(\"GPU Name:\", torch.cuda.get_device_name(0))\n",
    "else:\n",
    "    print(\"CUDA is NOT available. Using CPU.\")\n",
    "    "
   ]
  },
  {
   "cell_type": "code",
   "execution_count": 3,
   "id": "760f7c6d-9246-4283-b6fc-5255de3ee355",
   "metadata": {},
   "outputs": [],
   "source": [
    "def init_worker():\n",
    "    global model\n",
    "    model = whisper.load_model(\"medium\")  # or your model size\n",
    "    print(f\"Whisper model loaded on device: {model.device}\")\n",
    "    "
   ]
  },
  {
   "cell_type": "code",
   "execution_count": null,
   "id": "e09c587e-418e-46ca-bff6-7ecb27aca9bc",
   "metadata": {},
   "outputs": [],
   "source": [
    "\n"
   ]
  },
  {
   "cell_type": "code",
   "execution_count": 4,
   "id": "7b79dfcd-aaab-4939-8606-c1bb070e219a",
   "metadata": {},
   "outputs": [],
   "source": [
    "def init_worker():\n",
    "    global model\n",
    "    model = whisper.load_model(\"medium\")  # or your model size\n",
    "    # Get the device from the first parameter\n",
    "    device = next(model.parameters()).device\n",
    "    print(f\"Whisper model loaded on device: {device}\")"
   ]
  },
  {
   "cell_type": "code",
   "execution_count": null,
   "id": "4835a0a7-7018-476a-9d2a-a86c15841fbc",
   "metadata": {},
   "outputs": [],
   "source": []
  }
 ],
 "metadata": {
  "kernelspec": {
   "display_name": "Python 3 (ipykernel)",
   "language": "python",
   "name": "python3"
  },
  "language_info": {
   "codemirror_mode": {
    "name": "ipython",
    "version": 3
   },
   "file_extension": ".py",
   "mimetype": "text/x-python",
   "name": "python",
   "nbconvert_exporter": "python",
   "pygments_lexer": "ipython3",
   "version": "3.10.12"
  }
 },
 "nbformat": 4,
 "nbformat_minor": 5
}
